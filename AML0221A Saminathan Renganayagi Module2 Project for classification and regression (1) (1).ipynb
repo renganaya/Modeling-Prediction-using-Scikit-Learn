{
 "cells": [
  {
   "cell_type": "code",
   "execution_count": 2,
   "metadata": {},
   "outputs": [],
   "source": [
    "# import required packages\n",
    "import numpy as np\n",
    "import numpy.random as nr\n",
    "import pandas as pd\n",
    "import math\n",
    "import matplotlib.pyplot as plt\n",
    "import seaborn as sns\n",
    "import numpy.random as nr\n",
    "import sklearn.model_selection as ms\n",
    "from sklearn import feature_selection as fs\n",
    "import sklearn.metrics as skln\n",
    "from sklearn import preprocessing\n",
    "from sklearn import linear_model\n",
    "import scipy.stats as ss\n",
    "#make plots appear inline in the note book\n",
    "%matplotlib inline\n"
   ]
  },
  {
   "cell_type": "code",
   "execution_count": 3,
   "metadata": {},
   "outputs": [
    {
     "name": "stdout",
     "output_type": "stream",
     "text": [
      "<class 'pandas.core.frame.DataFrame'>\n",
      "RangeIndex: 16404 entries, 0 to 16403\n",
      "Data columns (total 25 columns):\n",
      " #   Column                Non-Null Count  Dtype  \n",
      "---  ------                --------------  -----  \n",
      " 0   Unnamed: 0            16404 non-null  int64  \n",
      " 1   CustomerID            16404 non-null  int64  \n",
      " 2   FirstName             16404 non-null  object \n",
      " 3   LastName              16404 non-null  object \n",
      " 4   AddressLine1          16404 non-null  object \n",
      " 5   City                  16404 non-null  object \n",
      " 6   StateProvinceName     16404 non-null  object \n",
      " 7   CountryRegionName     16404 non-null  object \n",
      " 8   PostalCode            16404 non-null  object \n",
      " 9   PhoneNumber           16404 non-null  object \n",
      " 10  BirthDate             16404 non-null  object \n",
      " 11  Education             16404 non-null  object \n",
      " 12  Occupation            16404 non-null  object \n",
      " 13  Gender                16404 non-null  object \n",
      " 14  MaritalStatus         16404 non-null  object \n",
      " 15  HomeOwnerFlag         16404 non-null  int64  \n",
      " 16  NumberCarsOwned       16404 non-null  int64  \n",
      " 17  NumberChildrenAtHome  16404 non-null  int64  \n",
      " 18  TotalChildren         16404 non-null  int64  \n",
      " 19  YearlyIncome          16404 non-null  int64  \n",
      " 20  AveMonthSpend         16404 non-null  int64  \n",
      " 21  BikeBuyer             16404 non-null  int64  \n",
      " 22  Age                   16404 non-null  int64  \n",
      " 23  AgeGroup              16404 non-null  object \n",
      " 24  dummy                 16404 non-null  float64\n",
      "dtypes: float64(1), int64(10), object(14)\n",
      "memory usage: 3.1+ MB\n"
     ]
    }
   ],
   "source": [
    "#check for duplicate rows,missing values and find out the imbalance of  dataset\n",
    "df=pd.read_csv('clean_data_with_Agegroup')\n",
    "df.info()"
   ]
  },
  {
   "cell_type": "code",
   "execution_count": 4,
   "metadata": {
    "scrolled": true
   },
   "outputs": [
    {
     "data": {
      "text/plain": [
       "0    10949\n",
       "1     5455\n",
       "Name: BikeBuyer, dtype: int64"
      ]
     },
     "execution_count": 4,
     "metadata": {},
     "output_type": "execute_result"
    }
   ],
   "source": [
    "#check the imbalance of the dataset\n",
    "df['BikeBuyer'].value_counts()"
   ]
  },
  {
   "cell_type": "code",
   "execution_count": 5,
   "metadata": {
    "scrolled": true
   },
   "outputs": [
    {
     "name": "stdout",
     "output_type": "stream",
     "text": [
      "['Bachelors ' 'Partial College' 'High School' 'Partial High School'\n",
      " 'Graduate Degree']\n",
      "['Professional' 'Management' 'Skilled Manual' 'Clerical' 'Manual']\n",
      "['M' 'F']\n",
      "['M' 'S']\n",
      "['25-45' '0-25' '45-55' '55-120']\n",
      "[1 0]\n"
     ]
    }
   ],
   "source": [
    "#specify the categorical columns\n",
    "categorical_columns = ['Education','Occupation','Gender','MaritalStatus','AgeGroup','HomeOwnerFlag']\n",
    "for cate in categorical_columns:\n",
    "    print(df[cate].unique())"
   ]
  },
  {
   "cell_type": "code",
   "execution_count": 6,
   "metadata": {},
   "outputs": [],
   "source": [
    "numerical_columns=['NumberCarsOwned','NumberChildrenAtHome','TotalChildren','YearlyIncome']"
   ]
  },
  {
   "cell_type": "code",
   "execution_count": 7,
   "metadata": {},
   "outputs": [],
   "source": [
    "def encode_string(cat_feature):\n",
    "    #first encode the strings to numeric categories\n",
    "    enc=preprocessing.LabelEncoder()\n",
    "    enc.fit(cat_feature)\n",
    "    enc_cat_feature=enc.transform(cat_feature)\n",
    "    \n",
    "    #now apply one hot encodig\n",
    "    ohe=preprocessing.OneHotEncoder()\n",
    "    encoded=ohe.fit(enc_cat_feature.reshape(-1,1))\n",
    "    return encoded.transform(enc_cat_feature.reshape(-1,1)).toarray()\n",
    "\n",
    "    "
   ]
  },
  {
   "cell_type": "code",
   "execution_count": 8,
   "metadata": {
    "scrolled": true
   },
   "outputs": [
    {
     "name": "stdout",
     "output_type": "stream",
     "text": [
      "Education (16404, 5)\n",
      "Occupation (16404, 5)\n",
      "Gender (16404, 2)\n",
      "MaritalStatus (16404, 2)\n",
      "AgeGroup (16404, 4)\n",
      "HomeOwnerFlag (16404, 2)\n",
      "20\n",
      "(16404, 20)\n",
      "[]\n"
     ]
    }
   ],
   "source": [
    "#create a list of empty lists to categorical features\n",
    "alist=[ [] for _ in range(df.shape[0])]\n",
    "cat_features=np.array(alist)\n",
    "for col in categorical_columns:\n",
    "    temp=encode_string(df[col])\n",
    "    print(col,temp.shape)\n",
    "    cat_features=np.concatenate([cat_features,temp],axis=1)\n",
    "    \n",
    "#used later to ideantify columns to start scalling  \n",
    "start_num_idx=cat_features.shape[1]\n",
    "print(start_num_idx)\n",
    "print(cat_features.shape)\n",
    "print(cat_features[:0,:])"
   ]
  },
  {
   "cell_type": "code",
   "execution_count": 9,
   "metadata": {},
   "outputs": [
    {
     "name": "stdout",
     "output_type": "stream",
     "text": [
      "(16404, 4)\n"
     ]
    }
   ],
   "source": [
    "Num_features=np.array(df[numerical_columns])\n",
    "print(Num_features.shape)"
   ]
  },
  {
   "cell_type": "code",
   "execution_count": 10,
   "metadata": {},
   "outputs": [
    {
     "name": "stdout",
     "output_type": "stream",
     "text": [
      "[[     1.      0.      0.      0.      0.      0.      0.      0.      1.\n",
      "       0.      0.      1.      1.      0.      0.      1.      0.      0.\n",
      "       0.      1.      0.      0.      2. 137947.]\n",
      " [     1.      0.      0.      0.      0.      0.      0.      0.      1.\n",
      "       0.      0.      1.      0.      1.      0.      1.      0.      0.\n",
      "       1.      0.      1.      3.      3. 101141.]] (16404, 24)\n"
     ]
    }
   ],
   "source": [
    "# Join the categorical and numerical together\n",
    "features=np.concatenate([cat_features,Num_features],axis=1)\n",
    "np.set_printoptions(suppress=True)#Turn off scientific Display\n",
    "print(features[:2,:],features.shape)"
   ]
  },
  {
   "cell_type": "code",
   "execution_count": 36,
   "metadata": {},
   "outputs": [
    {
     "name": "stdout",
     "output_type": "stream",
     "text": [
      "(11483, 24) (11483,)\n",
      "(4921, 24) (4921,)\n",
      "20\n"
     ]
    }
   ],
   "source": [
    "nr.seed(77)\n",
    "labels = np.array(df['BikeBuyer'])\n",
    "indx = range(features.shape[0])\n",
    "\n",
    "test_size = int(0.3*features.shape[0])\n",
    "indx = ms.train_test_split(indx, test_size = test_size)\n",
    "\n",
    "x_train = features[indx[0],:]\n",
    "y_train = np.ravel(labels[indx[0]])\n",
    "\n",
    "x_test = features[indx[1],:]\n",
    "y_test = np.ravel(labels[indx[1]])\n",
    "\n",
    "\n",
    "print(x_train.shape, y_train.shape)\n",
    "print(x_test.shape, y_test.shape)\n",
    "print(start_num_idx)\n"
   ]
  },
  {
   "cell_type": "code",
   "execution_count": 37,
   "metadata": {},
   "outputs": [
    {
     "name": "stdout",
     "output_type": "stream",
     "text": [
      "(11483, 24)\n"
     ]
    },
    {
     "data": {
      "text/plain": [
       "array([[ 1.        ,  0.        ,  0.        ,  0.        ,  0.        ,\n",
       "         0.        ,  1.        ,  0.        ,  0.        ,  0.        ,\n",
       "         1.        ,  0.        ,  1.        ,  0.        ,  0.        ,\n",
       "         0.        ,  1.        ,  0.        ,  0.        ,  1.        ,\n",
       "         0.44013102, -0.65407762,  1.78437659,  0.57012382],\n",
       "       [ 0.        ,  0.        ,  1.        ,  0.        ,  0.        ,\n",
       "         0.        ,  0.        ,  1.        ,  0.        ,  0.        ,\n",
       "         0.        ,  1.        ,  0.        ,  1.        ,  0.        ,\n",
       "         1.        ,  0.        ,  0.        ,  1.        ,  0.        ,\n",
       "        -1.31534813,  0.00320542, -0.59465408, -1.32860876],\n",
       "       [ 1.        ,  0.        ,  0.        ,  0.        ,  0.        ,\n",
       "         0.        ,  0.        ,  0.        ,  1.        ,  0.        ,\n",
       "         1.        ,  0.        ,  1.        ,  0.        ,  0.        ,\n",
       "         1.        ,  0.        ,  0.        ,  1.        ,  0.        ,\n",
       "        -0.43760856, -0.65407762, -1.18941174,  0.88358756]])"
      ]
     },
     "execution_count": 37,
     "metadata": {},
     "output_type": "execute_result"
    }
   ],
   "source": [
    "#apply scaling of numerrical columns\n",
    "scaler=preprocessing.StandardScaler().fit(x_train[:,start_num_idx:])\n",
    "x_train[:,start_num_idx:]=scaler.transform(x_train[:,start_num_idx:])\n",
    "x_test[:,start_num_idx:]=scaler.transform(x_test[:,start_num_idx:])\n",
    "print(x_train.shape)\n",
    "x_train[:3,:]"
   ]
  },
  {
   "cell_type": "code",
   "execution_count": 38,
   "metadata": {},
   "outputs": [
    {
     "data": {
      "text/plain": [
       "LogisticRegression(class_weight='balanced')"
      ]
     },
     "execution_count": 38,
     "metadata": {},
     "output_type": "execute_result"
    }
   ],
   "source": [
    "#Build logistic regression model\n",
    "class_weight={0:0.4,1:0.6}\n",
    "logistic_mod=linear_model.LogisticRegression(class_weight=class_weight)\n",
    "logistic_mod=linear_model.LogisticRegression(class_weight='balanced')\n",
    "logistic_mod.fit(x_train,y_train)\n"
   ]
  },
  {
   "cell_type": "code",
   "execution_count": 39,
   "metadata": {},
   "outputs": [
    {
     "name": "stdout",
     "output_type": "stream",
     "text": [
      "[-1.04051054]\n",
      "[[ 0.26075032  0.21235915 -0.21476286  0.01442549 -0.27332396 -0.0587099\n",
      "  -0.15914905  0.02278114  0.09152652  0.10299943 -0.34346294  0.34291108\n",
      "  -0.77766907  0.77711721  0.6997026   1.06325246 -0.01202078 -1.75148615\n",
      "  -0.08723613  0.08668427 -0.02353964  1.14967973 -0.09052696  0.44044058]]\n"
     ]
    }
   ],
   "source": [
    "print(logistic_mod.intercept_)\n",
    "print(logistic_mod.coef_)"
   ]
  },
  {
   "cell_type": "code",
   "execution_count": 41,
   "metadata": {},
   "outputs": [
    {
     "name": "stdout",
     "output_type": "stream",
     "text": [
      "[[0.18032136 0.81967864]\n",
      " [0.51967904 0.48032096]\n",
      " [0.49018097 0.50981903]\n",
      " [0.37455768 0.62544232]\n",
      " [0.76380582 0.23619418]\n",
      " [0.02405286 0.97594714]\n",
      " [0.89517475 0.10482525]\n",
      " [0.53799035 0.46200965]\n",
      " [0.87000777 0.12999223]\n",
      " [0.75937525 0.24062475]\n",
      " [0.71714023 0.28285977]\n",
      " [0.80414835 0.19585165]\n",
      " [0.62260977 0.37739023]\n",
      " [0.78156372 0.21843628]\n",
      " [0.71862886 0.28137114]]\n"
     ]
    }
   ],
   "source": [
    "probabilities = logistic_mod.predict_proba(x_test)\n",
    "print(probabilities[:15,:])"
   ]
  },
  {
   "cell_type": "code",
   "execution_count": 42,
   "metadata": {},
   "outputs": [
    {
     "name": "stdout",
     "output_type": "stream",
     "text": [
      "[1 0 1 1 0 1 0 0 0 0 0 0 0 0 0]\n",
      "[1 0 1 0 0 1 0 0 0 0 0 0 0 0 1]\n"
     ]
    }
   ],
   "source": [
    "#score and evalute the model and print the metrics\n",
    "def score_model(probs, threshold):\n",
    "    return np.array([1 if x > threshold else 0 for x in probs[:,1]])\n",
    "scores = score_model(probabilities, 0.5)\n",
    "print(np.array(scores[:15]))\n",
    "print(y_test[:15])"
   ]
  },
  {
   "cell_type": "code",
   "execution_count": 43,
   "metadata": {},
   "outputs": [
    {
     "name": "stdout",
     "output_type": "stream",
     "text": [
      "                 Confusion matrix\n",
      "                 Score positive    Score negative\n",
      "Actual positive      1189               427\n",
      "Actual negative       710              2595\n",
      "\n",
      "Accuracy  0.77\n",
      " \n",
      "           Positive      Negative\n",
      "Num case     1616          3305\n",
      "Precision    0.63          0.86\n",
      "Recall       0.74          0.79\n",
      "F1           0.68          0.82\n"
     ]
    }
   ],
   "source": [
    "def print_metrics(labels, scores):\n",
    "    metrics = skln.precision_recall_fscore_support(labels, scores)\n",
    "    conf = skln.confusion_matrix(labels, scores)\n",
    "    \n",
    "    print('                 Confusion matrix')\n",
    "    print('                 Score positive    Score negative')\n",
    "    print('Actual positive    %6d' % conf[1,1] + '             %5d' % conf[1,0])\n",
    "    print('Actual negative    %6d' % conf[0,1] + '             %5d' % conf[0,0])\n",
    "    print('')\n",
    "\n",
    "    print('Accuracy  %0.2f' % skln.accuracy_score(labels, scores))\n",
    "    print(' ')\n",
    "    print('           Positive      Negative')\n",
    "    print('Num case   %6d' % metrics[3][1] + '        %6d' % metrics[3][0])\n",
    "    print('Precision  %6.2f' % metrics[0][1] + '        %6.2f' % metrics[0][0])\n",
    "    print('Recall     %6.2f' % metrics[1][1] + '        %6.2f' % metrics[1][0])\n",
    "    print('F1         %6.2f' % metrics[2][1] + '        %6.2f' % metrics[2][0])\n",
    "\n",
    "print_metrics(y_test, scores) \n"
   ]
  },
  {
   "cell_type": "code",
   "execution_count": 44,
   "metadata": {},
   "outputs": [],
   "source": [
    "def plot_auc(labels, probs):\n",
    "    \n",
    "    ## Compute the false positive rate, true positive rate\n",
    "    ## and threshold along with the AUC\n",
    "\n",
    "    # labels are actual, probs (use col 1) for bad credit\n",
    "    fpr, tpr, threshold = skln.roc_curve(labels, probs[:,1]) \n",
    "    auc = skln.auc(fpr, tpr)\n",
    "\n",
    "    \n",
    "    ## Plot the result\n",
    "    plt.title('Receiver Operating Characteristic')\n",
    "    plt.plot(fpr, tpr, color = 'orange', label = 'AUC = %0.2f' % auc)\n",
    "    plt.legend(loc = 'lower right')\n",
    "    plt.plot([0, 1], [0, 1],'r--')\n",
    "    plt.xlim([0, 1])\n",
    "    plt.ylim([0, 1])\n",
    "    plt.ylabel('True Positive Rate')\n",
    "    plt.xlabel('False Positive Rate')\n",
    "    plt.show()\n",
    "    \n",
    "#plot_auc(y_test, probabilities) "
   ]
  },
  {
   "cell_type": "code",
   "execution_count": 146,
   "metadata": {},
   "outputs": [
    {
     "name": "stdout",
     "output_type": "stream",
     "text": [
      "[[0.18032136 0.81967864]\n",
      " [0.51967904 0.48032096]\n",
      " [0.49018097 0.50981903]\n",
      " [0.37455768 0.62544232]\n",
      " [0.76380582 0.23619418]]\n"
     ]
    }
   ],
   "source": [
    "# predict based on x_test values\n",
    "probabilities = logistic_mod.predict_proba(x_test)\n",
    "print(probabilities[:5,:]) #first 5 values\n",
    "\n"
   ]
  },
  {
   "cell_type": "code",
   "execution_count": 45,
   "metadata": {},
   "outputs": [
    {
     "name": "stdout",
     "output_type": "stream",
     "text": [
      "threshold value:  0.5\n",
      "                 Confusion matrix\n",
      "                 Score positive    Score negative\n",
      "Actual positive      1189               427\n",
      "Actual negative       710              2595\n",
      "\n",
      "Accuracy  0.77\n",
      " \n",
      "           Positive      Negative\n",
      "Num case     1616          3305\n",
      "Precision    0.63          0.86\n",
      "Recall       0.74          0.79\n",
      "F1           0.68          0.82\n"
     ]
    },
    {
     "data": {
      "image/png": "[encoded data removed]",
      "text/plain": [
       "<Figure size 432x288 with 1 Axes>"
      ]
     },
     "metadata": {
      "needs_background": "light"
     },
     "output_type": "display_data"
    }
   ],
   "source": [
    "threshold = 0.5\n",
    "print(\"threshold value: \", threshold)\n",
    "scores=score_model(probabilities,threshold)\n",
    "print_metrics(y_test, scores)  \n",
    "plot_auc(y_test, probabilities)\n"
   ]
  },
  {
   "cell_type": "code",
   "execution_count": 148,
   "metadata": {},
   "outputs": [
    {
     "name": "stdout",
     "output_type": "stream",
     "text": [
      "threshold value:  0.0\n",
      "                 Confusion matrix\n",
      "                 Score positive    Score negative\n",
      "Actual positive      1616                 0\n",
      "Actual negative      3305                 0\n",
      "\n",
      "Accuracy  0.33\n",
      " \n",
      "           Positive      Negative\n",
      "Num case     1616          3305\n",
      "Precision    0.33          0.00\n",
      "Recall       1.00          0.00\n",
      "F1           0.49          0.00\n",
      "--------------------------------------------------------------------------------\n",
      "threshold value:  0.1\n",
      "                 Confusion matrix\n",
      "                 Score positive    Score negative\n",
      "Actual positive      1613                 3\n",
      "Actual negative      2729               576\n",
      "\n",
      "Accuracy  0.44\n",
      " \n",
      "           Positive      Negative\n",
      "Num case     1616          3305\n",
      "Precision    0.37          0.99\n",
      "Recall       1.00          0.17\n",
      "F1           0.54          0.30\n",
      "--------------------------------------------------------------------------------\n",
      "threshold value:  0.2\n",
      "                 Confusion matrix\n",
      "                 Score positive    Score negative\n",
      "Actual positive      1572                44\n",
      "Actual negative      2088              1217\n",
      "\n",
      "Accuracy  0.57\n",
      " \n",
      "           Positive      Negative\n",
      "Num case     1616          3305\n",
      "Precision    0.43          0.97\n",
      "Recall       0.97          0.37\n",
      "F1           0.60          0.53\n",
      "--------------------------------------------------------------------------------\n",
      "threshold value:  0.30000000000000004\n",
      "                 Confusion matrix\n",
      "                 Score positive    Score negative\n",
      "Actual positive      1451               165\n",
      "Actual negative      1472              1833\n",
      "\n",
      "Accuracy  0.67\n",
      " \n",
      "           Positive      Negative\n",
      "Num case     1616          3305\n",
      "Precision    0.50          0.92\n",
      "Recall       0.90          0.55\n",
      "F1           0.64          0.69\n",
      "--------------------------------------------------------------------------------\n",
      "threshold value:  0.4\n",
      "                 Confusion matrix\n",
      "                 Score positive    Score negative\n",
      "Actual positive      1330               286\n",
      "Actual negative      1095              2210\n",
      "\n",
      "Accuracy  0.72\n",
      " \n",
      "           Positive      Negative\n",
      "Num case     1616          3305\n",
      "Precision    0.55          0.89\n",
      "Recall       0.82          0.67\n",
      "F1           0.66          0.76\n",
      "--------------------------------------------------------------------------------\n",
      "threshold value:  0.5\n",
      "                 Confusion matrix\n",
      "                 Score positive    Score negative\n",
      "Actual positive      1189               427\n",
      "Actual negative       710              2595\n",
      "\n",
      "Accuracy  0.77\n",
      " \n",
      "           Positive      Negative\n",
      "Num case     1616          3305\n",
      "Precision    0.63          0.86\n",
      "Recall       0.74          0.79\n",
      "F1           0.68          0.82\n",
      "--------------------------------------------------------------------------------\n",
      "threshold value:  0.6000000000000001\n",
      "                 Confusion matrix\n",
      "                 Score positive    Score negative\n",
      "Actual positive      1059               557\n",
      "Actual negative       448              2857\n",
      "\n",
      "Accuracy  0.80\n",
      " \n",
      "           Positive      Negative\n",
      "Num case     1616          3305\n",
      "Precision    0.70          0.84\n",
      "Recall       0.66          0.86\n",
      "F1           0.68          0.85\n",
      "--------------------------------------------------------------------------------\n",
      "threshold value:  0.7000000000000001\n",
      "                 Confusion matrix\n",
      "                 Score positive    Score negative\n",
      "Actual positive       926               690\n",
      "Actual negative       281              3024\n",
      "\n",
      "Accuracy  0.80\n",
      " \n",
      "           Positive      Negative\n",
      "Num case     1616          3305\n",
      "Precision    0.77          0.81\n",
      "Recall       0.57          0.91\n",
      "F1           0.66          0.86\n",
      "--------------------------------------------------------------------------------\n",
      "threshold value:  0.8\n",
      "                 Confusion matrix\n",
      "                 Score positive    Score negative\n",
      "Actual positive       675               941\n",
      "Actual negative       135              3170\n",
      "\n",
      "Accuracy  0.78\n",
      " \n",
      "           Positive      Negative\n",
      "Num case     1616          3305\n",
      "Precision    0.83          0.77\n",
      "Recall       0.42          0.96\n",
      "F1           0.56          0.85\n",
      "--------------------------------------------------------------------------------\n",
      "threshold value:  0.9\n",
      "                 Confusion matrix\n",
      "                 Score positive    Score negative\n",
      "Actual positive       385              1231\n",
      "Actual negative        46              3259\n",
      "\n",
      "Accuracy  0.74\n",
      " \n",
      "           Positive      Negative\n",
      "Num case     1616          3305\n",
      "Precision    0.89          0.73\n",
      "Recall       0.24          0.99\n",
      "F1           0.38          0.84\n",
      "--------------------------------------------------------------------------------\n",
      "threshold value:  1.0\n"
     ]
    },
    {
     "name": "stderr",
     "output_type": "stream",
     "text": [
      "D:\\Users\\NEW\\anaconda3\\lib\\site-packages\\sklearn\\metrics\\_classification.py:1245: UndefinedMetricWarning: Precision and F-score are ill-defined and being set to 0.0 in labels with no predicted samples. Use `zero_division` parameter to control this behavior.\n",
      "  _warn_prf(average, modifier, msg_start, len(result))\n",
      "D:\\Users\\NEW\\anaconda3\\lib\\site-packages\\sklearn\\metrics\\_classification.py:1245: UndefinedMetricWarning: Precision and F-score are ill-defined and being set to 0.0 in labels with no predicted samples. Use `zero_division` parameter to control this behavior.\n",
      "  _warn_prf(average, modifier, msg_start, len(result))\n"
     ]
    },
    {
     "name": "stdout",
     "output_type": "stream",
     "text": [
      "                 Confusion matrix\n",
      "                 Score positive    Score negative\n",
      "Actual positive         0              1616\n",
      "Actual negative         0              3305\n",
      "\n",
      "Accuracy  0.67\n",
      " \n",
      "           Positive      Negative\n",
      "Num case     1616          3305\n",
      "Precision    0.00          0.67\n",
      "Recall       0.00          1.00\n",
      "F1           0.00          0.80\n",
      "--------------------------------------------------------------------------------\n"
     ]
    }
   ],
   "source": [
    "thresholdList = np.arange(0,1.1,0.1)\n",
    "for threshold in thresholdList:\n",
    "    print(\"threshold value: \", threshold)\n",
    "    scores = score_model(probabilities, threshold)\n",
    "    print_metrics(y_test, scores)  \n",
    "    #plot_auc(y_test, probabilities)  \n",
    "    print(80*'-')\n"
   ]
  },
  {
   "cell_type": "code",
   "execution_count": 46,
   "metadata": {},
   "outputs": [
    {
     "name": "stdout",
     "output_type": "stream",
     "text": [
      "threshold value:  0.64\n",
      "                 Confusion matrix\n",
      "                 Score positive    Score negative\n",
      "Actual positive      1005               611\n",
      "Actual negative       368              2937\n",
      "\n",
      "Accuracy  0.80\n",
      " \n",
      "           Positive      Negative\n",
      "Num case     1616          3305\n",
      "Precision    0.73          0.83\n",
      "Recall       0.62          0.89\n",
      "F1           0.67          0.86\n"
     ]
    },
    {
     "data": {
      "image/png": "[encoded data removed]",
      "text/plain": [
       "<Figure size 432x288 with 1 Axes>"
      ]
     },
     "metadata": {
      "needs_background": "light"
     },
     "output_type": "display_data"
    }
   ],
   "source": [
    "# pick good threshold value\n",
    "threshold = 0.64\n",
    "print(\"threshold value: \", threshold)\n",
    "scores = score_model(probabilities, threshold)\n",
    "print_metrics(y_test, scores)  \n",
    "plot_auc(y_test, probabilities)  \n",
    "\n"
   ]
  },
  {
   "cell_type": "code",
   "execution_count": 47,
   "metadata": {},
   "outputs": [
    {
     "name": "stdout",
     "output_type": "stream",
     "text": [
      "[4.48863637 4.76217393 4.81218436 ... 4.36944785 4.17438727 4.21950771]\n",
      "(11483, 24) (11483,)\n",
      "(4921, 24) (4921,)\n",
      "20\n"
     ]
    }
   ],
   "source": [
    "#Task4\n",
    "#split the dataset with 70:30 based Bike buyer and create some random sample if needed\n",
    "nr.seed(777)\n",
    "labels=np.array(np.log(df['AveMonthSpend']))\n",
    "print(labels)\n",
    "indx=range(features.shape[0])\n",
    "\n",
    "test_size=int(0.3*features.shape[0])\n",
    "indx=ms.train_test_split(indx,test_size=test_size)\n",
    "\n",
    "x_train=features[indx[0],:]\n",
    "y_train=np.ravel(labels[indx[0]])\n",
    "\n",
    "x_test=features[indx[1],:]\n",
    "y_test=np.ravel(labels[indx[1]])\n",
    "\n",
    "print(x_train.shape,y_train.shape)\n",
    "print(x_test.shape,y_test.shape)\n",
    "print(start_num_idx)\n",
    "    "
   ]
  },
  {
   "cell_type": "code",
   "execution_count": 48,
   "metadata": {},
   "outputs": [
    {
     "name": "stdout",
     "output_type": "stream",
     "text": [
      "(11483, 24)\n"
     ]
    },
    {
     "data": {
      "text/plain": [
       "array([[ 1.        ,  0.        ,  0.        ,  0.        ,  0.        ,\n",
       "         1.        ,  0.        ,  0.        ,  0.        ,  0.        ,\n",
       "         0.        ,  1.        ,  0.        ,  1.        ,  0.        ,\n",
       "         1.        ,  0.        ,  0.        ,  0.        ,  1.        ,\n",
       "        -1.31840874, -0.65695697, -0.60426553, -0.51972654],\n",
       "       [ 0.        ,  0.        ,  0.        ,  1.        ,  0.        ,\n",
       "         0.        ,  0.        ,  1.        ,  0.        ,  0.        ,\n",
       "         1.        ,  0.        ,  0.        ,  1.        ,  0.        ,\n",
       "         1.        ,  0.        ,  0.        ,  0.        ,  1.        ,\n",
       "        -1.31840874, -0.65695697, -0.60426553, -1.34519292],\n",
       "       [ 1.        ,  0.        ,  0.        ,  0.        ,  0.        ,\n",
       "         0.        ,  1.        ,  0.        ,  0.        ,  0.        ,\n",
       "         0.        ,  1.        ,  1.        ,  0.        ,  0.        ,\n",
       "         1.        ,  0.        ,  0.        ,  0.        ,  1.        ,\n",
       "        -0.43990311,  2.63988633,  1.77651372,  2.20615518]])"
      ]
     },
     "execution_count": 48,
     "metadata": {},
     "output_type": "execute_result"
    }
   ],
   "source": [
    "#apply scaling of numerrical columns\n",
    "scaler=preprocessing.StandardScaler().fit(x_train[:,start_num_idx:])\n",
    "x_train[:,start_num_idx:]=scaler.transform(x_train[:,start_num_idx:])\n",
    "x_test[:,start_num_idx:]=scaler.transform(x_test[:,start_num_idx:])\n",
    "print(x_train.shape)\n",
    "x_train[:3,:]"
   ]
  },
  {
   "cell_type": "code",
   "execution_count": 49,
   "metadata": {},
   "outputs": [
    {
     "data": {
      "text/plain": [
       "LinearRegression(fit_intercept=False)"
      ]
     },
     "execution_count": 49,
     "metadata": {},
     "output_type": "execute_result"
    }
   ],
   "source": [
    "#Task5 Build the linear Regression model\n",
    "lin_mod=linear_model.LinearRegression(fit_intercept=False)\n",
    "lin_mod.fit(x_train,y_train)"
   ]
  },
  {
   "cell_type": "code",
   "execution_count": 50,
   "metadata": {},
   "outputs": [
    {
     "name": "stdout",
     "output_type": "stream",
     "text": [
      "0.0\n",
      "[ 3.25115031e+10  3.25115031e+10  3.25115031e+10  3.25115031e+10\n",
      "  3.25115031e+10 -7.12609108e+10 -7.12609108e+10 -7.12609108e+10\n",
      " -7.12609108e+10 -7.12609108e+10 -2.46562441e+11 -2.46562441e+11\n",
      " -1.43305301e+11 -1.43305301e+11 -1.15946763e+09 -1.15946763e+09\n",
      " -1.15946763e+09 -1.15946763e+09  4.29776617e+11  4.29776617e+11\n",
      " -6.36863708e-03  1.96127892e-01 -1.71852112e-03  8.72173309e-02] 24\n"
     ]
    }
   ],
   "source": [
    "#Task6 Score Evalute the model and print the metrics\n",
    "print(lin_mod.intercept_)\n",
    "print(lin_mod.coef_,lin_mod.coef_.shape[0])"
   ]
  },
  {
   "cell_type": "code",
   "execution_count": 51,
   "metadata": {},
   "outputs": [],
   "source": [
    "def print_metrics(y_true, y_predicted, n_parameters):\n",
    "    ## First compute R^2 and the adjusted R^2\n",
    "    r2 = skln.r2_score(y_true, y_predicted)\n",
    "    r2_adj = r2 - (n_parameters - 1)/(y_true.shape[0] - n_parameters) * (1 - r2)\n",
    "    \n",
    "    ##Print the usual metrics and the R^2 values\n",
    "    print('Mean Square Error      = ' + str(skln.mean_squared_error(y_true, y_predicted)))\n",
    "    print('Root Mean Square Error = ' + str(math.sqrt(skln.mean_squared_error(y_true, y_predicted))))\n",
    "    print('Mean Absolute Error    = ' + str(skln.mean_absolute_error(y_true, y_predicted)))\n",
    "    print('Median Absolute Error  = ' + str(skln.median_absolute_error(y_true, y_predicted)))\n",
    "    print('R^2                    = ' + str(r2))\n",
    "    print('Adjusted R^2           = ' + str(r2_adj))\n",
    "   "
   ]
  },
  {
   "cell_type": "code",
   "execution_count": 55,
   "metadata": {},
   "outputs": [
    {
     "name": "stdout",
     "output_type": "stream",
     "text": [
      "[104.60030677  76.88185535  62.72329503 ...  47.91728611 112.413409\n",
      "  43.21772061]\n",
      "[ 94.  73.  66. ...  47. 119.  45.]\n",
      "Mean Square Error      = 13.883415861221964\n",
      "Root Mean Square Error = 3.726045606433443\n",
      "Mean Absolute Error    = 2.9059310531239255\n",
      "Median Absolute Error  = 2.370424298328828\n",
      "R^2                    = 0.9812186465370184\n",
      "Adjusted R^2           = 0.9811265810788665\n"
     ]
    }
   ],
   "source": [
    "y_score = lin_mod.predict(x_test) \n",
    "\n",
    "\n",
    "y_score_untransform = np.exp(y_score)\n",
    "y_test_untransform = np.exp(y_test)\n",
    "print(y_score_untransform)\n",
    "print(y_test_untransform)\n",
    "print_metrics(y_test_untransform, y_score_untransform, lin_mod.coef_.shape[0]+1)    # coef + 1 intercept \n",
    "\n",
    "\n",
    "\n",
    "\n"
   ]
  },
  {
   "cell_type": "code",
   "execution_count": 56,
   "metadata": {},
   "outputs": [
    {
     "name": "stderr",
     "output_type": "stream",
     "text": [
      "D:\\Users\\NEW\\anaconda3\\lib\\site-packages\\seaborn\\distributions.py:2551: FutureWarning: `distplot` is a deprecated function and will be removed in a future version. Please adapt your code to use either `displot` (a figure-level function with similar flexibility) or `histplot` (an axes-level function for histograms).\n",
      "  warnings.warn(msg, FutureWarning)\n"
     ]
    },
    {
     "data": {
      "image/png": "[encoded data removed]",
      "text/plain": [
       "<Figure size 432x288 with 1 Axes>"
      ]
     },
     "metadata": {
      "needs_background": "light"
     },
     "output_type": "display_data"
    }
   ],
   "source": [
    "def hist_resids(y_test, y_score):\n",
    "    ## first compute vector of residuals. \n",
    "    resids = np.subtract(y_test.reshape(-1,1), y_score.reshape(-1,1))\n",
    "    ## now make the residual plots\n",
    "    sns.distplot(resids)\n",
    "    plt.title('Histogram of residuals')\n",
    "    plt.xlabel('Residual value')\n",
    "    plt.ylabel('count')\n",
    "    \n",
    "#hist_resids(y_test, y_score)   \n",
    "hist_resids(y_test_untransform, y_score_untransform)   \n"
   ]
  },
  {
   "cell_type": "code",
   "execution_count": null,
   "metadata": {},
   "outputs": [],
   "source": []
  },
  {
   "cell_type": "code",
   "execution_count": 57,
   "metadata": {},
   "outputs": [
    {
     "data": {
      "image/png": "[encoded data removed]",
      "text/plain": [
       "<Figure size 432x288 with 1 Axes>"
      ]
     },
     "metadata": {
      "needs_background": "light"
     },
     "output_type": "display_data"
    }
   ],
   "source": [
    "def resid_qq(y_test, y_score):\n",
    "    ## first compute vector of residuals. \n",
    "    resids = np.subtract(y_test.reshape(-1,1), y_score.reshape(-1,1))\n",
    "    ## now make the residual plots\n",
    "    ss.probplot(resids.flatten(), plot = plt)\n",
    "    plt.title('Residuals vs. predicted values')\n",
    "    plt.xlabel('Predicted values')\n",
    "    plt.ylabel('Residual')\n",
    "    \n",
    "resid_qq(y_test_untransform, y_score_untransform)   \n",
    "#resid_qq(y_test, y_score)   "
   ]
  },
  {
   "cell_type": "code",
   "execution_count": 158,
   "metadata": {
    "scrolled": true
   },
   "outputs": [
    {
     "name": "stderr",
     "output_type": "stream",
     "text": [
      "D:\\Users\\NEW\\anaconda3\\lib\\site-packages\\seaborn\\_decorators.py:36: FutureWarning: Pass the following variables as keyword args: x, y. From version 0.12, the only valid positional argument will be `data`, and passing other arguments without an explicit keyword will result in an error or misinterpretation.\n",
      "  warnings.warn(\n"
     ]
    },
    {
     "data": {
      "image/png": "[encoded data removed]",
      "text/plain": [
       "<Figure size 432x288 with 1 Axes>"
      ]
     },
     "metadata": {
      "needs_background": "light"
     },
     "output_type": "display_data"
    }
   ],
   "source": [
    "def resid_plot(y_test, y_score):\n",
    "    ## first compute vector of residuals. \n",
    "    resids = np.subtract(y_test.reshape(-1,1), y_score.reshape(-1,1))\n",
    "    ## now make the residual plots\n",
    "    sns.regplot(y_score, resids, fit_reg=False)\n",
    "    plt.title('Residuals vs. predicted values')\n",
    "    plt.xlabel('Predicted values')\n",
    "    plt.ylabel('Residual')\n",
    "\n",
    "#resid_plot(y_test, y_score) \n",
    "resid_plot(y_test_untransform, y_score_untransform) "
   ]
  },
  {
   "cell_type": "code",
   "execution_count": 58,
   "metadata": {},
   "outputs": [
    {
     "name": "stdout",
     "output_type": "stream",
     "text": [
      "(500, 23) Index(['CustomerID', 'Title', 'FirstName', 'MiddleName', 'LastName', 'Suffix',\n",
      "       'AddressLine1', 'AddressLine2', 'City', 'StateProvinceName',\n",
      "       'CountryRegionName', 'PostalCode', 'PhoneNumber', 'BirthDate',\n",
      "       'Education', 'Occupation', 'Gender', 'MaritalStatus', 'HomeOwnerFlag',\n",
      "       'NumberCarsOwned', 'NumberChildrenAtHome', 'TotalChildren',\n",
      "       'YearlyIncome'],\n",
      "      dtype='object')\n"
     ]
    }
   ],
   "source": [
    "# this portion to read AW_test.csv, clean and test\n",
    "missing_value_formats=['n.a.','?','NA','n/a','na','--', 'null']\n",
    "#df.to_csv('AW_test')\n",
    "aw_test = pd.read_csv('AW_test.csv', na_values=missing_value_formats)\n",
    "aw_test.drop_duplicates(subset='CustomerID', keep='last', inplace=True)\n",
    "print(aw_test.shape, aw_test.columns)\n",
    "\n"
   ]
  },
  {
   "cell_type": "code",
   "execution_count": 59,
   "metadata": {
    "scrolled": true
   },
   "outputs": [
    {
     "data": {
      "text/plain": [
       "CustomerID                0\n",
       "Title                   496\n",
       "FirstName                 0\n",
       "MiddleName              216\n",
       "LastName                  0\n",
       "Suffix                  499\n",
       "AddressLine1              0\n",
       "AddressLine2            487\n",
       "City                      0\n",
       "StateProvinceName         0\n",
       "CountryRegionName         0\n",
       "PostalCode                0\n",
       "PhoneNumber               0\n",
       "BirthDate                 0\n",
       "Education                 0\n",
       "Occupation                0\n",
       "Gender                    0\n",
       "MaritalStatus             0\n",
       "HomeOwnerFlag             0\n",
       "NumberCarsOwned           0\n",
       "NumberChildrenAtHome      0\n",
       "TotalChildren             0\n",
       "YearlyIncome              0\n",
       "dtype: int64"
      ]
     },
     "execution_count": 59,
     "metadata": {},
     "output_type": "execute_result"
    }
   ],
   "source": [
    "aw_test.isnull().sum()"
   ]
  },
  {
   "cell_type": "code",
   "execution_count": 60,
   "metadata": {},
   "outputs": [],
   "source": [
    "aw_test.drop(columns=['Title','MiddleName','Suffix','AddressLine2'], inplace=True)\n"
   ]
  },
  {
   "cell_type": "code",
   "execution_count": 61,
   "metadata": {
    "scrolled": true
   },
   "outputs": [
    {
     "data": {
      "text/plain": [
       "CustomerID              0\n",
       "FirstName               0\n",
       "LastName                0\n",
       "AddressLine1            0\n",
       "City                    0\n",
       "StateProvinceName       0\n",
       "CountryRegionName       0\n",
       "PostalCode              0\n",
       "PhoneNumber             0\n",
       "BirthDate               0\n",
       "Education               0\n",
       "Occupation              0\n",
       "Gender                  0\n",
       "MaritalStatus           0\n",
       "HomeOwnerFlag           0\n",
       "NumberCarsOwned         0\n",
       "NumberChildrenAtHome    0\n",
       "TotalChildren           0\n",
       "YearlyIncome            0\n",
       "dtype: int64"
      ]
     },
     "execution_count": 61,
     "metadata": {},
     "output_type": "execute_result"
    }
   ],
   "source": [
    "aw_test.isnull().sum()"
   ]
  },
  {
   "cell_type": "code",
   "execution_count": 62,
   "metadata": {},
   "outputs": [
    {
     "name": "stdout",
     "output_type": "stream",
     "text": [
      "0      31\n",
      "1      32\n",
      "2      32\n",
      "3      29\n",
      "4      29\n",
      "       ..\n",
      "495    30\n",
      "496    30\n",
      "497    31\n",
      "498    31\n",
      "499    31\n",
      "Name: Age, Length: 500, dtype: int32\n"
     ]
    }
   ],
   "source": [
    "def convert_bdate_age(birthDate, collectionDate):\n",
    "    \n",
    "    diff = collectionDate - birthDate\n",
    "    age = diff.dt.days.div(365).astype(int)\n",
    "    return age\n",
    "    \n",
    "aw_cDate = pd.to_datetime('1998-01-01')\n",
    "aw_test['BirthDate'] = pd.to_datetime(df['BirthDate'])    \n",
    "aw_bDate = aw_test['BirthDate']\n",
    "aw_age = convert_bdate_age(aw_bDate, aw_cDate)\n",
    "aw_test['Age'] = aw_age\n",
    "print(aw_test['Age'])\n"
   ]
  },
  {
   "cell_type": "code",
   "execution_count": 63,
   "metadata": {},
   "outputs": [],
   "source": [
    "numGroups = 10\n",
    "bins = [0,25,45,55,120]\n",
    "aw_ageCats = pd.cut(aw_test['Age'], bins=bins, labels=['0-25','25-45','45-55','55-120'])\n",
    "aw_test['AgeGroup'] = aw_ageCats\n"
   ]
  },
  {
   "cell_type": "code",
   "execution_count": 64,
   "metadata": {},
   "outputs": [],
   "source": [
    "aw_test.to_csv('clean_aw_test.csv')\n"
   ]
  },
  {
   "cell_type": "code",
   "execution_count": 65,
   "metadata": {},
   "outputs": [
    {
     "data": {
      "text/plain": [
       "Index(['Unnamed: 0', 'CustomerID', 'FirstName', 'LastName', 'AddressLine1',\n",
       "       'City', 'StateProvinceName', 'CountryRegionName', 'PostalCode',\n",
       "       'PhoneNumber', 'BirthDate', 'Education', 'Occupation', 'Gender',\n",
       "       'MaritalStatus', 'HomeOwnerFlag', 'NumberCarsOwned',\n",
       "       'NumberChildrenAtHome', 'TotalChildren', 'YearlyIncome', 'Age',\n",
       "       'AgeGroup'],\n",
       "      dtype='object')"
      ]
     },
     "execution_count": 65,
     "metadata": {},
     "output_type": "execute_result"
    }
   ],
   "source": [
    "aw_test = pd.read_csv('clean_aw_test.csv')\n",
    "aw_test.columns  #there are NO BikeBuyer and AveMonthSpend\n"
   ]
  },
  {
   "cell_type": "code",
   "execution_count": 66,
   "metadata": {},
   "outputs": [
    {
     "name": "stdout",
     "output_type": "stream",
     "text": [
      "Education (500, 5)\n",
      "Occupation (500, 5)\n",
      "Gender (500, 2)\n",
      "MaritalStatus (500, 2)\n",
      "AgeGroup (500, 4)\n",
      "HomeOwnerFlag (500, 2)\n",
      "(500, 20)\n",
      "[[1. 0. 0. 0. 0. 0. 1. 0. 0. 0. 1. 0. 0. 1. 0. 1. 0. 0. 1. 0.]\n",
      " [1. 0. 0. 0. 0. 0. 0. 0. 0. 1. 0. 1. 1. 0. 0. 1. 0. 0. 0. 1.]]\n"
     ]
    }
   ],
   "source": [
    "# create a list of empty lists to store features\n",
    "aw_alist = [ [] for _ in range(aw_test.shape[0]) ]\n",
    "aw_features = np.array(aw_alist)\n",
    "for col in categorical_columns:\n",
    "    temp=encode_string(aw_test[col])\n",
    "    print(col,temp.shape)\n",
    "    aw_features=np.concatenate([aw_features,temp],axis=1)\n",
    "aw_start_num_idx=aw_features.shape[1]\n",
    "print(aw_features.shape)\n",
    "print(aw_features[:2,:])"
   ]
  },
  {
   "cell_type": "code",
   "execution_count": 67,
   "metadata": {},
   "outputs": [
    {
     "data": {
      "text/plain": [
       "(500, 24)"
      ]
     },
     "execution_count": 67,
     "metadata": {},
     "output_type": "execute_result"
    }
   ],
   "source": [
    "aw_features=np.concatenate([aw_features,np.array(aw_test[numerical_columns])],axis=1)\n",
    "aw_features[:2,:]\n",
    "aw_features.shape"
   ]
  },
  {
   "cell_type": "code",
   "execution_count": 68,
   "metadata": {},
   "outputs": [
    {
     "name": "stdout",
     "output_type": "stream",
     "text": [
      "(500, 24)\n"
     ]
    },
    {
     "data": {
      "text/plain": [
       "array([[ 1.        ,  0.        ,  0.        ,  0.        ,  0.        ,\n",
       "         0.        ,  1.        ,  0.        ,  0.        ,  0.        ,\n",
       "         1.        ,  0.        ,  0.        ,  1.        ,  0.        ,\n",
       "         1.        ,  0.        ,  0.        ,  1.        ,  0.        ,\n",
       "         0.35928859, -0.72107754,  1.6591036 ,  0.12653132],\n",
       "       [ 1.        ,  0.        ,  0.        ,  0.        ,  0.        ,\n",
       "         0.        ,  0.        ,  0.        ,  0.        ,  1.        ,\n",
       "         0.        ,  1.        ,  1.        ,  0.        ,  0.        ,\n",
       "         1.        ,  0.        ,  0.        ,  0.        ,  1.        ,\n",
       "         0.35928859,  0.53297036,  1.06909521,  0.45161083],\n",
       "       [ 0.        ,  1.        ,  0.        ,  0.        ,  0.        ,\n",
       "         0.        ,  1.        ,  0.        ,  0.        ,  0.        ,\n",
       "         1.        ,  0.        ,  1.        ,  0.        ,  0.        ,\n",
       "         1.        ,  0.        ,  0.        ,  0.        ,  1.        ,\n",
       "         0.35928859, -0.72107754,  1.06909521,  0.54671519]])"
      ]
     },
     "execution_count": 68,
     "metadata": {},
     "output_type": "execute_result"
    }
   ],
   "source": [
    "#Apply scalings of numerical columns\n",
    "aw_scaler=preprocessing.StandardScaler().fit(aw_features[:,aw_start_num_idx:])\n",
    "aw_features[:,aw_start_num_idx:]=aw_scaler.transform(aw_features[:,aw_start_num_idx:])\n",
    "print(aw_features.shape)\n",
    "aw_features[:3,:]"
   ]
  },
  {
   "cell_type": "code",
   "execution_count": 69,
   "metadata": {},
   "outputs": [],
   "source": [
    "#get the predicted values and store then in to csv files\n",
    "aw_probabilities=logistic_mod.predict_proba(aw_features)\n",
    "aw_scores=score_model(aw_probabilities,threshold)\n",
    "pd_scores=pd.Series(aw_scores)\n",
    "pd_id=aw_test['CustomerID']\n",
    "newdf=pd.concat([pd_id,pd_scores],axis=1)\n",
    "newdf.reset_index()\n",
    "np.savetxt('ClassificationResults_anitha.csv',newdf,delimiter=',',fmt='%d')\n",
    "\n"
   ]
  },
  {
   "cell_type": "code",
   "execution_count": 72,
   "metadata": {},
   "outputs": [],
   "source": [
    "aw_scores = lin_mod.predict(aw_features) \n",
    "aw_scores_untransform = np.exp(aw_scores) #get back due to initial log\n",
    "\n",
    "pd_scores = pd.Series(aw_scores_untransform)\n",
    "pd_id = aw_test['CustomerID']\n",
    "newdf = pd.concat([pd_id, pd_scores], axis=1)\n",
    "newdf.reset_index()\n",
    "np.savetxt('RegressionResults.csv', newdf, delimiter=',', fmt='%d %f')"
   ]
  },
  {
   "cell_type": "code",
   "execution_count": null,
   "metadata": {},
   "outputs": [],
   "source": []
  },
  {
   "cell_type": "code",
   "execution_count": null,
   "metadata": {},
   "outputs": [],
   "source": []
  }
 ],
 "metadata": {
  "kernelspec": {
   "display_name": "Python 3 (ipykernel)",
   "language": "python",
   "name": "python3"
  },
  "language_info": {
   "codemirror_mode": {
    "name": "ipython",
    "version": 3
   },
   "file_extension": ".py",
   "mimetype": "text/x-python",
   "name": "python",
   "nbconvert_exporter": "python",
   "pygments_lexer": "ipython3",
   "version": "3.9.7"
  }
 },
 "nbformat": 4,
 "nbformat_minor": 4
}
