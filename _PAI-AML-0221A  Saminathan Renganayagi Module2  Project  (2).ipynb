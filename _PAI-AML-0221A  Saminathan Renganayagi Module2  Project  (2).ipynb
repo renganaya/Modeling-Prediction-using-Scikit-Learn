{
 "cells": [
  {
   "cell_type": "code",
   "execution_count": 1,
   "metadata": {},
   "outputs": [],
   "source": [
    "#Import Required Packages\n",
    "import pandas as pd\n",
    "import numpy as np\n",
    "import math\n",
    "import seaborn as sns\n",
    "import matplotlib.pyplot as plt\n",
    "from  datetime import date"
   ]
  },
  {
   "cell_type": "code",
   "execution_count": 2,
   "metadata": {},
   "outputs": [],
   "source": [
    "#Read three dataset given\n",
    "missing_value_formates=['n.a.','?','NA','n/a','--','null']\n",
    "df1=pd.read_csv('AdvWorksCusts.csv')\n",
    "df2=pd.read_csv('AW_AveMonthSpend.csv')\n",
    "df3=pd.read_csv('AW_BikeBuyer.csv')\n",
    "#print(df1.shape)\n",
    "#print(df2.shape)\n",
    "#print(df3.shape)"
   ]
  },
  {
   "cell_type": "code",
   "execution_count": 3,
   "metadata": {},
   "outputs": [
    {
     "name": "stdout",
     "output_type": "stream",
     "text": [
      "   CustomerID Title FirstName MiddleName LastName Suffix     AddressLine1  \\\n",
      "0       11000   NaN       Jon          V     Yang    NaN  3761 N. 14th St   \n",
      "1       11001   NaN    Eugene          L    Huang    NaN       2243 W St.   \n",
      "\n",
      "  AddressLine2         City StateProvinceName  ...    Occupation Gender  \\\n",
      "0          NaN  Rockhampton        Queensland  ...  Professional      M   \n",
      "1          NaN      Seaford          Victoria  ...  Professional      M   \n",
      "\n",
      "  MaritalStatus HomeOwnerFlag NumberCarsOwned NumberChildrenAtHome  \\\n",
      "0             M             1               0                    0   \n",
      "1             S             0               1                    3   \n",
      "\n",
      "  TotalChildren YearlyIncome  AveMonthSpend  BikeBuyer  \n",
      "0             2       137947             89          0  \n",
      "1             3       101141            117          1  \n",
      "\n",
      "[2 rows x 25 columns] (17209, 25)\n"
     ]
    }
   ],
   "source": [
    "#merge all datasets into one dataframe and check result\n",
    "df = df1.merge(df2, on='CustomerID',how='left')\n",
    "df=df.merge(df3,on='CustomerID',how='left')\n",
    "print(df.head(2),df.shape)             "
   ]
  },
  {
   "cell_type": "code",
   "execution_count": 4,
   "metadata": {},
   "outputs": [
    {
     "name": "stdout",
     "output_type": "stream",
     "text": [
      "Index(['CustomerID', 'Title', 'FirstName', 'MiddleName', 'LastName', 'Suffix',\n",
      "       'AddressLine1', 'AddressLine2', 'City', 'StateProvinceName',\n",
      "       'CountryRegionName', 'PostalCode', 'PhoneNumber', 'BirthDate',\n",
      "       'Education', 'Occupation', 'Gender', 'MaritalStatus', 'HomeOwnerFlag',\n",
      "       'NumberCarsOwned', 'NumberChildrenAtHome', 'TotalChildren',\n",
      "       'YearlyIncome', 'AveMonthSpend', 'BikeBuyer'],\n",
      "      dtype='object') (16404, 25)\n"
     ]
    }
   ],
   "source": [
    "#check for the duplicates and remove them \n",
    "df.drop_duplicates(subset='CustomerID',keep='last',inplace=True)\n",
    "print(df.columns,df.shape)"
   ]
  },
  {
   "cell_type": "code",
   "execution_count": 5,
   "metadata": {},
   "outputs": [
    {
     "data": {
      "text/plain": [
       "CustomerID               int64\n",
       "Title                   object\n",
       "FirstName               object\n",
       "MiddleName              object\n",
       "LastName                object\n",
       "Suffix                  object\n",
       "AddressLine1            object\n",
       "AddressLine2            object\n",
       "City                    object\n",
       "StateProvinceName       object\n",
       "CountryRegionName       object\n",
       "PostalCode              object\n",
       "PhoneNumber             object\n",
       "BirthDate               object\n",
       "Education               object\n",
       "Occupation              object\n",
       "Gender                  object\n",
       "MaritalStatus           object\n",
       "HomeOwnerFlag            int64\n",
       "NumberCarsOwned          int64\n",
       "NumberChildrenAtHome     int64\n",
       "TotalChildren            int64\n",
       "YearlyIncome             int64\n",
       "AveMonthSpend            int64\n",
       "BikeBuyer                int64\n",
       "dtype: object"
      ]
     },
     "execution_count": 5,
     "metadata": {},
     "output_type": "execute_result"
    }
   ],
   "source": [
    "df.dtypes"
   ]
  },
  {
   "cell_type": "code",
   "execution_count": 6,
   "metadata": {},
   "outputs": [
    {
     "data": {
      "text/plain": [
       "count    16404.000000\n",
       "mean        72.391002\n",
       "std         27.269921\n",
       "min         22.000000\n",
       "25%         52.000000\n",
       "50%         68.000000\n",
       "75%         84.000000\n",
       "max        176.000000\n",
       "Name: AveMonthSpend, dtype: float64"
      ]
     },
     "execution_count": 6,
     "metadata": {},
     "output_type": "execute_result"
    }
   ],
   "source": [
    "#perform data exploration\n",
    "df['AveMonthSpend'].describe()"
   ]
  },
  {
   "cell_type": "code",
   "execution_count": 7,
   "metadata": {},
   "outputs": [
    {
     "data": {
      "text/plain": [
       "CustomerID                  0\n",
       "Title                   16316\n",
       "FirstName                   0\n",
       "MiddleName               6951\n",
       "LastName                    0\n",
       "Suffix                  16402\n",
       "AddressLine1                0\n",
       "AddressLine2            16131\n",
       "City                        0\n",
       "StateProvinceName           0\n",
       "CountryRegionName           0\n",
       "PostalCode                  0\n",
       "PhoneNumber                 0\n",
       "BirthDate                   0\n",
       "Education                   0\n",
       "Occupation                  0\n",
       "Gender                      0\n",
       "MaritalStatus               0\n",
       "HomeOwnerFlag               0\n",
       "NumberCarsOwned             0\n",
       "NumberChildrenAtHome        0\n",
       "TotalChildren               0\n",
       "YearlyIncome                0\n",
       "AveMonthSpend               0\n",
       "BikeBuyer                   0\n",
       "dtype: int64"
      ]
     },
     "execution_count": 7,
     "metadata": {},
     "output_type": "execute_result"
    }
   ],
   "source": [
    "df.isnull().sum()"
   ]
  },
  {
   "cell_type": "code",
   "execution_count": 8,
   "metadata": {},
   "outputs": [],
   "source": [
    "df.drop(columns=['Title','MiddleName','Suffix','AddressLine2'],inplace=True)"
   ]
  },
  {
   "cell_type": "code",
   "execution_count": 9,
   "metadata": {},
   "outputs": [
    {
     "data": {
      "text/plain": [
       "CustomerID              0\n",
       "FirstName               0\n",
       "LastName                0\n",
       "AddressLine1            0\n",
       "City                    0\n",
       "StateProvinceName       0\n",
       "CountryRegionName       0\n",
       "PostalCode              0\n",
       "PhoneNumber             0\n",
       "BirthDate               0\n",
       "Education               0\n",
       "Occupation              0\n",
       "Gender                  0\n",
       "MaritalStatus           0\n",
       "HomeOwnerFlag           0\n",
       "NumberCarsOwned         0\n",
       "NumberChildrenAtHome    0\n",
       "TotalChildren           0\n",
       "YearlyIncome            0\n",
       "AveMonthSpend           0\n",
       "BikeBuyer               0\n",
       "dtype: int64"
      ]
     },
     "execution_count": 9,
     "metadata": {},
     "output_type": "execute_result"
    }
   ],
   "source": [
    "df.isnull().sum()"
   ]
  },
  {
   "cell_type": "code",
   "execution_count": 10,
   "metadata": {},
   "outputs": [],
   "source": [
    "#save clean data to be used later for classification and Regression\n",
    "df.to_csv('clean_data.csv')\n"
   ]
  },
  {
   "cell_type": "code",
   "execution_count": 11,
   "metadata": {},
   "outputs": [
    {
     "name": "stdout",
     "output_type": "stream",
     "text": [
      "0    10949\n",
      "1     5455\n",
      "Name: BikeBuyer, dtype: int64\n"
     ]
    }
   ],
   "source": [
    "#find the counts for each unique category\n",
    "counts=df['BikeBuyer'].value_counts()\n",
    "print(counts)\n"
   ]
  },
  {
   "cell_type": "code",
   "execution_count": 12,
   "metadata": {},
   "outputs": [
    {
     "name": "stderr",
     "output_type": "stream",
     "text": [
      "D:\\Users\\NEW\\anaconda3\\lib\\site-packages\\seaborn\\_decorators.py:36: FutureWarning: Pass the following variables as keyword args: x, y. From version 0.12, the only valid positional argument will be `data`, and passing other arguments without an explicit keyword will result in an error or misinterpretation.\n",
      "  warnings.warn(\n"
     ]
    },
    {
     "data": {
      "image/png": "[encoded data removed]",
      "text/plain": [
       "<Figure size 432x288 with 1 Axes>"
      ]
     },
     "metadata": {
      "needs_background": "light"
     },
     "output_type": "display_data"
    }
   ],
   "source": [
    "#perform visualization sns box plot for occupation and yearly income to Q7\n",
    "sns.boxplot('Occupation','YearlyIncome',data=df)\n",
    "plt.xlabel('Occupation')\n",
    "plt.ylabel('YearlyIncome')\n",
    "plt.show()"
   ]
  },
  {
   "cell_type": "code",
   "execution_count": 13,
   "metadata": {},
   "outputs": [
    {
     "name": "stdout",
     "output_type": "stream",
     "text": [
      "1998-01-01 00:00:00\n",
      "0       1966-04-08\n",
      "1       1965-05-14\n",
      "2       1965-08-12\n",
      "3       1968-02-15\n",
      "4       1968-08-08\n",
      "           ...    \n",
      "17192   1965-03-22\n",
      "17196   1936-04-02\n",
      "17200   1940-01-01\n",
      "17204   1946-10-20\n",
      "17208   1945-04-07\n",
      "Name: BirthDate, Length: 16404, dtype: datetime64[ns]\n"
     ]
    }
   ],
   "source": [
    "#convert the Birthdate format and insert the date of data collection 1st jan 1998\n",
    "DataCollection=pd.to_datetime('1998-01-01')\n",
    "df['BirthDate'] = pd.to_datetime(df['BirthDate'])\n",
    "print(DataCollection)\n",
    "print(df['BirthDate'])"
   ]
  },
  {
   "cell_type": "code",
   "execution_count": 14,
   "metadata": {},
   "outputs": [
    {
     "name": "stdout",
     "output_type": "stream",
     "text": [
      "0        31\n",
      "1        32\n",
      "2        32\n",
      "3        29\n",
      "4        29\n",
      "         ..\n",
      "17192    32\n",
      "17196    61\n",
      "17200    58\n",
      "17204    51\n",
      "17208    52\n",
      "Name: Age, Length: 16404, dtype: int32\n"
     ]
    }
   ],
   "source": [
    "#convert birthdate in to age at the collection date using function and return age\n",
    "def convert_bdate_age(cdate,bdate):\n",
    "    diff=cdate-bdate\n",
    "    age=diff.dt.days.div(365).astype(int)\n",
    "    return age\n",
    "\n",
    "bdate=df['BirthDate']\n",
    "age=convert_bdate_age(DataCollection,bdate)\n",
    "df['Age']=age\n",
    "print(df['Age'])"
   ]
  },
  {
   "cell_type": "code",
   "execution_count": 15,
   "metadata": {},
   "outputs": [
    {
     "name": "stdout",
     "output_type": "stream",
     "text": [
      "0         25-45\n",
      "1         25-45\n",
      "2         25-45\n",
      "3         25-45\n",
      "4         25-45\n",
      "          ...  \n",
      "17192     25-45\n",
      "17196    55-120\n",
      "17200    55-120\n",
      "17204     45-55\n",
      "17208     45-55\n",
      "Name: AgeGroup, Length: 16404, dtype: category\n",
      "Categories (4, object): ['0-25' < '25-45' < '45-55' < '55-120']\n"
     ]
    }
   ],
   "source": [
    "#classify customer in to agegroup\n",
    "numGroups = 10\n",
    "bins=[0,25,45,55,120]\n",
    "agecats=pd.cut(df['Age'],bins=bins,labels=['0-25','25-45','45-55','55-120'])\n",
    "#agecats=pd.cut(df['Age'],bins=bins,labels=range(len(bins)-1))\n",
    "df['AgeGroup']=agecats\n",
    "print(df['AgeGroup'])"
   ]
  },
  {
   "cell_type": "code",
   "execution_count": 16,
   "metadata": {},
   "outputs": [
    {
     "data": {
      "text/plain": [
       "<AxesSubplot:xlabel='AgeGroup', ylabel='AveMonthSpend'>"
      ]
     },
     "execution_count": 16,
     "metadata": {},
     "output_type": "execute_result"
    },
    {
     "data": {
      "image/png": "[encoded data removed]",
      "text/plain": [
       "<Figure size 432x288 with 1 Axes>"
      ]
     },
     "metadata": {
      "needs_background": "light"
     },
     "output_type": "display_data"
    }
   ],
   "source": [
    "sns.barplot(x='AgeGroup',y='AveMonthSpend',hue='Gender',data=df)"
   ]
  },
  {
   "cell_type": "code",
   "execution_count": 17,
   "metadata": {},
   "outputs": [
    {
     "name": "stderr",
     "output_type": "stream",
     "text": [
      "D:\\Users\\NEW\\anaconda3\\lib\\site-packages\\seaborn\\_decorators.py:36: FutureWarning: Pass the following variables as keyword args: x, y. From version 0.12, the only valid positional argument will be `data`, and passing other arguments without an explicit keyword will result in an error or misinterpretation.\n",
      "  warnings.warn(\n"
     ]
    },
    {
     "data": {
      "image/png": "[encoded data removed]",
      "text/plain": [
       "<Figure size 432x288 with 1 Axes>"
      ]
     },
     "metadata": {
      "needs_background": "light"
     },
     "output_type": "display_data"
    }
   ],
   "source": [
    "sns.boxplot('MaritalStatus','AveMonthSpend',data=df )\n",
    "plt.xlabel('MaritalStatus')\n",
    "plt.ylabel('AveMonthSpend')\n",
    "plt.show()\n"
   ]
  },
  {
   "cell_type": "code",
   "execution_count": 18,
   "metadata": {},
   "outputs": [
    {
     "name": "stderr",
     "output_type": "stream",
     "text": [
      "D:\\Users\\NEW\\anaconda3\\lib\\site-packages\\seaborn\\_decorators.py:36: FutureWarning: Pass the following variables as keyword args: x, y. From version 0.12, the only valid positional argument will be `data`, and passing other arguments without an explicit keyword will result in an error or misinterpretation.\n",
      "  warnings.warn(\n"
     ]
    },
    {
     "data": {
      "image/png": "[encoded data removed]",
      "text/plain": [
       "<Figure size 432x288 with 1 Axes>"
      ]
     },
     "metadata": {
      "needs_background": "light"
     },
     "output_type": "display_data"
    }
   ],
   "source": [
    "sns.boxplot('NumberCarsOwned','AveMonthSpend',data=df)\n",
    "plt.xlabel('NumberCarsOwned')\n",
    "plt.ylabel('AveMonthSpend')\n",
    "plt.show()\n"
   ]
  },
  {
   "cell_type": "code",
   "execution_count": 19,
   "metadata": {},
   "outputs": [
    {
     "name": "stderr",
     "output_type": "stream",
     "text": [
      "D:\\Users\\NEW\\anaconda3\\lib\\site-packages\\seaborn\\_decorators.py:36: FutureWarning: Pass the following variables as keyword args: x, y. From version 0.12, the only valid positional argument will be `data`, and passing other arguments without an explicit keyword will result in an error or misinterpretation.\n",
      "  warnings.warn(\n"
     ]
    },
    {
     "data": {
      "image/png": "[encoded data removed]",
      "text/plain": [
       "<Figure size 432x288 with 1 Axes>"
      ]
     },
     "metadata": {
      "needs_background": "light"
     },
     "output_type": "display_data"
    }
   ],
   "source": [
    "sns.boxplot('Gender','AveMonthSpend',data=df)\n",
    "plt.xlabel('Gender')\n",
    "plt.ylabel('AveMonthSpend')\n",
    "plt.show()\n",
    "#print(df[['AveMonthSpend','Gender']].groupby(['Gender']).median())\n",
    "#print(df[['AveMonthSpend','Gender']].groupby(['Gender']).std())\n",
    "\n"
   ]
  },
  {
   "cell_type": "code",
   "execution_count": 20,
   "metadata": {},
   "outputs": [
    {
     "name": "stderr",
     "output_type": "stream",
     "text": [
      "D:\\Users\\NEW\\anaconda3\\lib\\site-packages\\seaborn\\_decorators.py:36: FutureWarning: Pass the following variables as keyword args: x, y. From version 0.12, the only valid positional argument will be `data`, and passing other arguments without an explicit keyword will result in an error or misinterpretation.\n",
      "  warnings.warn(\n"
     ]
    },
    {
     "data": {
      "image/png": "[encoded data removed]",
      "text/plain": [
       "<Figure size 432x288 with 1 Axes>"
      ]
     },
     "metadata": {
      "needs_background": "light"
     },
     "output_type": "display_data"
    }
   ],
   "source": [
    "sns.boxplot('NumberChildrenAtHome','AveMonthSpend',data=df)\n",
    "plt.xlabel('Gender')\n",
    "plt.ylabel('AveMonthSpend')\n",
    "plt.show()"
   ]
  },
  {
   "cell_type": "code",
   "execution_count": 21,
   "metadata": {},
   "outputs": [
    {
     "name": "stderr",
     "output_type": "stream",
     "text": [
      "D:\\Users\\NEW\\anaconda3\\lib\\site-packages\\seaborn\\_decorators.py:36: FutureWarning: Pass the following variables as keyword args: x, y. From version 0.12, the only valid positional argument will be `data`, and passing other arguments without an explicit keyword will result in an error or misinterpretation.\n",
      "  warnings.warn(\n"
     ]
    },
    {
     "data": {
      "image/png": "[encoded data removed]",
      "text/plain": [
       "<Figure size 432x288 with 1 Axes>"
      ]
     },
     "metadata": {
      "needs_background": "light"
     },
     "output_type": "display_data"
    }
   ],
   "source": [
    "sns.boxplot('BikeBuyer','YearlyIncome',data=df)\n",
    "plt.xlabel('BikeBuyer')\n",
    "plt.ylabel('YearlyIncome')\n",
    "plt.show()\n",
    "#print(df[['BikeBuyer','YearlyIncome']].groupby(['BikeBuyer']).median())\n"
   ]
  },
  {
   "cell_type": "code",
   "execution_count": 22,
   "metadata": {},
   "outputs": [
    {
     "name": "stderr",
     "output_type": "stream",
     "text": [
      "D:\\Users\\NEW\\anaconda3\\lib\\site-packages\\seaborn\\_decorators.py:36: FutureWarning: Pass the following variables as keyword args: x, y. From version 0.12, the only valid positional argument will be `data`, and passing other arguments without an explicit keyword will result in an error or misinterpretation.\n",
      "  warnings.warn(\n"
     ]
    },
    {
     "data": {
      "image/png": "[encoded data removed]",
      "text/plain": [
       "<Figure size 432x288 with 1 Axes>"
      ]
     },
     "metadata": {
      "needs_background": "light"
     },
     "output_type": "display_data"
    }
   ],
   "source": [
    "sns.boxplot('BikeBuyer','NumberCarsOwned',data=df)\n",
    "plt.xlabel('BikeBuyer')\n",
    "plt.ylabel('NumberCarsOwned')\n",
    "plt.show()\n",
    "#print(df[['BikeBuyer','NumberCarsOwned']].groupby(['BikeBuyer']).median())\n"
   ]
  },
  {
   "cell_type": "code",
   "execution_count": 23,
   "metadata": {},
   "outputs": [
    {
     "name": "stdout",
     "output_type": "stream",
     "text": [
      "Occupation\n",
      "   BikeBuyer      Occupation  dummy\n",
      "0          0        Clerical   1981\n",
      "1          0      Management   1702\n",
      "2          0          Manual   1625\n",
      "3          0    Professional   2738\n",
      "4          0  Skilled Manual   2903\n",
      "5          1        Clerical    616\n",
      "6          1      Management   1016\n",
      "7          1          Manual    504\n",
      "8          1    Professional   2184\n",
      "9          1  Skilled Manual   1135\n"
     ]
    },
    {
     "data": {
      "image/png": "[encoded data removed]",
      "text/plain": [
       "<Figure size 720x288 with 2 Axes>"
      ]
     },
     "metadata": {
      "needs_background": "light"
     },
     "output_type": "display_data"
    },
    {
     "name": "stdout",
     "output_type": "stream",
     "text": [
      "Gender\n",
      "   BikeBuyer Gender  dummy\n",
      "0          0      F   5881\n",
      "1          0      M   5068\n",
      "2          1      F   2233\n",
      "3          1      M   3222\n"
     ]
    },
    {
     "data": {
      "image/png": "[encoded data removed]",
      "text/plain": [
       "<Figure size 720x288 with 2 Axes>"
      ]
     },
     "metadata": {
      "needs_background": "light"
     },
     "output_type": "display_data"
    },
    {
     "name": "stdout",
     "output_type": "stream",
     "text": [
      "MaritalStatus\n",
      "   BikeBuyer MaritalStatus  dummy\n",
      "0          0             M   6653\n",
      "1          0             S   4296\n",
      "2          1             M   2199\n",
      "3          1             S   3256\n"
     ]
    },
    {
     "data": {
      "image/png": "[encoded data removed]",
      "text/plain": [
       "<Figure size 720x288 with 2 Axes>"
      ]
     },
     "metadata": {
      "needs_background": "light"
     },
     "output_type": "display_data"
    }
   ],
   "source": [
    "cat_cols=['Occupation','Gender','MaritalStatus']\n",
    "df['dummy']=np.ones(shape=df.shape[0])\n",
    "for col in cat_cols:\n",
    "    print(col)\n",
    "    counts=df[['dummy','BikeBuyer',col]].groupby(['BikeBuyer',col],as_index=False).count()\n",
    "    print(counts)\n",
    "    _=plt.figure(figsize=(10,4))\n",
    "    plt.subplot(1,2,1)\n",
    "    temp=counts[counts['BikeBuyer']==0][[col,'dummy']]\n",
    "    plt.bar(temp[col],temp.dummy)\n",
    "    plt.xticks(rotation=90)\n",
    "    plt.title('Counts for'+col+'\\n Non BikeBuyer')\n",
    "    plt.ylabel('count')\n",
    "    \n",
    "    \n",
    "    plt.subplot(1,2,2)\n",
    "    temp=counts[counts['BikeBuyer']==1][[col,'dummy']]\n",
    "    plt.bar(temp[col],temp.dummy)\n",
    "    plt.xticks(rotation=90)\n",
    "    plt.title('Counts for'+col+'\\n BikeBuyer')\n",
    "    plt.ylabel('count')\n",
    "    plt.show()\n",
    "    "
   ]
  },
  {
   "cell_type": "code",
   "execution_count": 24,
   "metadata": {},
   "outputs": [],
   "source": [
    "\n",
    "df.to_csv('clean_data_with_Agegroup')"
   ]
  },
  {
   "cell_type": "code",
   "execution_count": null,
   "metadata": {},
   "outputs": [],
   "source": []
  }
 ],
 "metadata": {
  "kernelspec": {
   "display_name": "Python 3 (ipykernel)",
   "language": "python",
   "name": "python3"
  },
  "language_info": {
   "codemirror_mode": {
    "name": "ipython",
    "version": 3
   },
   "file_extension": ".py",
   "mimetype": "text/x-python",
   "name": "python",
   "nbconvert_exporter": "python",
   "pygments_lexer": "ipython3",
   "version": "3.9.7"
  }
 },
 "nbformat": 4,
 "nbformat_minor": 4
}
